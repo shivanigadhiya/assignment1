{
 "cells": [
  {
   "cell_type": "code",
   "execution_count": 1,
   "id": "51b9b996-e85b-47bd-acee-ea82402b139c",
   "metadata": {},
   "outputs": [
    {
     "name": "stdout",
     "output_type": "stream",
     "text": [
      "division of two numbers: 2.0\n",
      "modulo of two numbers: 0\n",
      "floor division of two numbers: 2\n",
      "power is: 100000\n"
     ]
    }
   ],
   "source": [
    "a = 10\n",
    "b = 5\n",
    "print(\"division of two numbers:\",a/b)\n",
    "print(\"modulo of two numbers:\",a%b)\n",
    "print(\"floor division of two numbers:\",a//b)\n",
    "print(\"power is:\",a**b)"
   ]
  },
  {
   "cell_type": "code",
   "execution_count": null,
   "id": "e4f98188-09d6-45d6-8ccd-150b8c30e02e",
   "metadata": {},
   "outputs": [],
   "source": []
  }
 ],
 "metadata": {
  "kernelspec": {
   "display_name": "Python 3 (ipykernel)",
   "language": "python",
   "name": "python3"
  },
  "language_info": {
   "codemirror_mode": {
    "name": "ipython",
    "version": 3
   },
   "file_extension": ".py",
   "mimetype": "text/x-python",
   "name": "python",
   "nbconvert_exporter": "python",
   "pygments_lexer": "ipython3",
   "version": "3.10.8"
  }
 },
 "nbformat": 4,
 "nbformat_minor": 5
}
