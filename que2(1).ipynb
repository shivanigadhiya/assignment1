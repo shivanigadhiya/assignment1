{
 "cells": [
  {
   "cell_type": "code",
   "execution_count": 1,
   "id": "a4a4e7c3-dc7e-467d-8b2a-cff727344f08",
   "metadata": {},
   "outputs": [
    {
     "name": "stdout",
     "output_type": "stream",
     "text": [
      "<class 'str'>\n"
     ]
    }
   ],
   "source": [
    "var1 = ‘ ‘\n",
    "print(type(var1))"
   ]
  },
  {
   "cell_type": "code",
   "execution_count": 5,
   "id": "979d2754-194d-47c6-9e44-b4910b6bd37d",
   "metadata": {},
   "outputs": [
    {
     "name": "stdout",
     "output_type": "stream",
     "text": [
      "<class 'str'>\n"
     ]
    }
   ],
   "source": [
    "var2 = '[ DS , ML , Python]'\n",
    "print(type(var2))\n"
   ]
  },
  {
   "cell_type": "code",
   "execution_count": 8,
   "id": "40f844cf-d501-4afa-be8d-b1dc3c359420",
   "metadata": {},
   "outputs": [
    {
     "name": "stdout",
     "output_type": "stream",
     "text": [
      "<class 'list'>\n"
     ]
    }
   ],
   "source": [
    "var3 = [ 'DS' , 'ML' , 'Python' ]\n",
    "print(type(var3))"
   ]
  },
  {
   "cell_type": "code",
   "execution_count": 9,
   "id": "753061e9-4189-45d7-8798-f2cf1b137f2d",
   "metadata": {},
   "outputs": [
    {
     "name": "stdout",
     "output_type": "stream",
     "text": [
      "<class 'float'>\n"
     ]
    }
   ],
   "source": [
    "var4 = 1.\n",
    "print(type(var4))"
   ]
  },
  {
   "cell_type": "code",
   "execution_count": null,
   "id": "f565915a-0dbb-4674-a9b3-90136084488a",
   "metadata": {},
   "outputs": [],
   "source": []
  }
 ],
 "metadata": {
  "kernelspec": {
   "display_name": "Python 3 (ipykernel)",
   "language": "python",
   "name": "python3"
  },
  "language_info": {
   "codemirror_mode": {
    "name": "ipython",
    "version": 3
   },
   "file_extension": ".py",
   "mimetype": "text/x-python",
   "name": "python",
   "nbconvert_exporter": "python",
   "pygments_lexer": "ipython3",
   "version": "3.10.8"
  }
 },
 "nbformat": 4,
 "nbformat_minor": 5
}
