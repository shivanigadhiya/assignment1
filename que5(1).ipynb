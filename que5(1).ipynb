{
 "cells": [
  {
   "cell_type": "code",
   "execution_count": 2,
   "id": "113847e8-a07a-4c79-bc22-ca0ec03f1d73",
   "metadata": {},
   "outputs": [
    {
     "name": "stdin",
     "output_type": "stream",
     "text": [
      "enter the first value: 16\n",
      "enter the second value: 2\n"
     ]
    },
    {
     "name": "stdout",
     "output_type": "stream",
     "text": [
      "8.0\n",
      "4.0\n",
      "2.0\n",
      "1.0\n",
      " Total iteration number is: 4\n"
     ]
    }
   ],
   "source": [
    "a = int(input(\"enter the first value:\"))\n",
    "b = int(input(\"enter the second value:\"))\n",
    "i = 0\n",
    "while(a%b==0):\n",
    "    \n",
    "        \n",
    "        c = a/b\n",
    "        print(c)\n",
    "        a = c\n",
    "        b = b\n",
    "        i = i+1\n",
    "if (i>0):\n",
    "    print(\" Total iteration number is:\",i)\n",
    "else:\n",
    "    print(\"a is not divisible by b\")\n",
    "        \n",
    "    "
   ]
  }
 ],
 "metadata": {
  "kernelspec": {
   "display_name": "Python 3 (ipykernel)",
   "language": "python",
   "name": "python3"
  },
  "language_info": {
   "codemirror_mode": {
    "name": "ipython",
    "version": 3
   },
   "file_extension": ".py",
   "mimetype": "text/x-python",
   "name": "python",
   "nbconvert_exporter": "python",
   "pygments_lexer": "ipython3",
   "version": "3.10.8"
  }
 },
 "nbformat": 4,
 "nbformat_minor": 5
}
