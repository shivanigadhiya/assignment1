{
 "cells": [
  {
   "cell_type": "code",
   "execution_count": 1,
   "id": "2b7a6545-29c0-44e2-b483-a4267d6617be",
   "metadata": {},
   "outputs": [
    {
     "name": "stdout",
     "output_type": "stream",
     "text": [
      "mutable data type: It means we can change the internal state of object\n",
      "[9, 2, 5, 8]\n",
      "immutable data type: It means we can't change the internal state of object\n",
      "example:String,tuple\n"
     ]
    },
    {
     "ename": "TypeError",
     "evalue": "'tuple' object does not support item assignment",
     "output_type": "error",
     "traceback": [
      "\u001b[0;31m---------------------------------------------------------------------------\u001b[0m",
      "\u001b[0;31mTypeError\u001b[0m                                 Traceback (most recent call last)",
      "Cell \u001b[0;32mIn[1], line 12\u001b[0m\n\u001b[1;32m     10\u001b[0m \u001b[38;5;28mprint\u001b[39m(b1)\n\u001b[1;32m     11\u001b[0m tuple1 \u001b[38;5;241m=\u001b[39m (\u001b[38;5;241m0\u001b[39m,\u001b[38;5;241m1\u001b[39m,\u001b[38;5;241m2\u001b[39m,\u001b[38;5;241m3\u001b[39m)\n\u001b[0;32m---> 12\u001b[0m \u001b[43mtuple1\u001b[49m\u001b[43m[\u001b[49m\u001b[38;5;241;43m0\u001b[39;49m\u001b[43m]\u001b[49m \u001b[38;5;241m=\u001b[39m \u001b[38;5;241m4\u001b[39m\n\u001b[1;32m     13\u001b[0m \u001b[38;5;28mprint\u001b[39m(tuple1)\n",
      "\u001b[0;31mTypeError\u001b[0m: 'tuple' object does not support item assignment"
     ]
    }
   ],
   "source": [
    "a = (\"mutable data type: It means we can change the internal state of object\")\n",
    "print(a)\n",
    "a1 = (\"example:list,dictionary,set\")\n",
    "list1 = [1,2,5,8]\n",
    "list1[0] = 9\n",
    "print(list1)\n",
    "b = (\"immutable data type: It means we can't change the internal state of object\")\n",
    "print(b)\n",
    "b1 = (\"example:String,tuple\")\n",
    "print(b1)\n",
    "tuple1 = (0,1,2,3)\n",
    "tuple1[0] = 4\n",
    "print(tuple1)"
   ]
  }
 ],
 "metadata": {
  "kernelspec": {
   "display_name": "Python 3 (ipykernel)",
   "language": "python",
   "name": "python3"
  },
  "language_info": {
   "codemirror_mode": {
    "name": "ipython",
    "version": 3
   },
   "file_extension": ".py",
   "mimetype": "text/x-python",
   "name": "python",
   "nbconvert_exporter": "python",
   "pygments_lexer": "ipython3",
   "version": "3.10.8"
  }
 },
 "nbformat": 4,
 "nbformat_minor": 5
}
